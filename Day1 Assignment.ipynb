{
 "cells": [
  {
   "cell_type": "markdown",
   "id": "c069daf3",
   "metadata": {},
   "source": [
    "1. Convert a string to a zigzag pattern on a given number of rows and then read it row by row."
   ]
  },
  {
   "cell_type": "code",
   "execution_count": 1,
   "id": "12d11420",
   "metadata": {},
   "outputs": [
    {
     "name": "stdout",
     "output_type": "stream",
     "text": [
      "PAHNAPLSIIGYIR\n"
     ]
    }
   ],
   "source": [
    "s = \"PAYPALISHIRING\"\n",
    "numRows = 3\n",
    "\n",
    "# P   A   H   N\n",
    "# A P L S I I G\n",
    "# Y   I   R\n",
    "\n",
    "def convert(s: str, numRows: int) -> str:\n",
    "    if numRows == 1 or numRows >= len(s):\n",
    "        return s\n",
    "\n",
    "    result = \"\"  \n",
    "    # for rows 0 and -1\n",
    "    step_size = 2 * (numRows - 1) \n",
    "\n",
    "    for r in range(numRows):\n",
    "        for i in range(r, len(s), step_size):\n",
    "            result += s[i]\n",
    "            # for rows between 0 and numRows - 1\n",
    "            if r > 0 and r < numRows - 1 and i + step_size - 2 * r < len(s):\n",
    "                result += s[i + step_size - 2 * r]\n",
    "        \n",
    "    return result\n",
    "\n",
    "result = convert(s, numRows)\n",
    "print(result)\n"
   ]
  },
  {
   "cell_type": "markdown",
   "id": "d369d5f3",
   "metadata": {},
   "source": [
    "2. Implement a method to perform basic string compression using the counts of repeated characters."
   ]
  },
  {
   "cell_type": "code",
   "execution_count": 2,
   "id": "6888208a",
   "metadata": {},
   "outputs": [
    {
     "name": "stdout",
     "output_type": "stream",
     "text": [
      "a2b1c5a3\n"
     ]
    }
   ],
   "source": [
    "string = 'aabcccccaaa'\n",
    "\n",
    "def string_compression(s):\n",
    "    result = \"\"\n",
    "    if not s:\n",
    "        return result\n",
    "    char_count = 1  # Initialize character count to 1\n",
    "    for i in range(1, len(s)):\n",
    "        if s[i] == s[i - 1]:\n",
    "            char_count += 1\n",
    "        else:\n",
    "            result += s[i - 1] + str(char_count)\n",
    "            char_count = 1\n",
    "    result += s[-1] + str(char_count)\n",
    "    return result\n",
    "\n",
    "print(string_compression(string))"
   ]
  },
  {
   "cell_type": "markdown",
   "id": "bedaf9a9",
   "metadata": {},
   "source": [
    "3. Write a function that generates all possible permutations of a given string."
   ]
  },
  {
   "cell_type": "code",
   "execution_count": 3,
   "id": "ff9cc06d",
   "metadata": {},
   "outputs": [
    {
     "name": "stdout",
     "output_type": "stream",
     "text": [
      "['ABC', 'ACB', 'BAC', 'BCA', 'CAB', 'CBA']\n"
     ]
    }
   ],
   "source": [
    "strs = \"ABC\"\n",
    "\n",
    "import itertools\n",
    "\n",
    "def permute(strs: str) -> list:\n",
    "    res = [''.join(p) for p in itertools.permutations(strs)]\n",
    "    return res\n",
    "    \n",
    "result = permute(strs)\n",
    "print(result) \n"
   ]
  },
  {
   "cell_type": "markdown",
   "id": "98c5e5f6",
   "metadata": {},
   "source": [
    "4. Given an array of strings, group anagrams together."
   ]
  },
  {
   "cell_type": "code",
   "execution_count": 31,
   "id": "73984fdf",
   "metadata": {
    "scrolled": true
   },
   "outputs": [
    {
     "name": "stdout",
     "output_type": "stream",
     "text": [
      "[['eat', 'tea', 'ate'], ['tan', 'nat'], ['bat']]\n"
     ]
    }
   ],
   "source": [
    "from typing import List\n",
    "from collections import defaultdict\n",
    "\n",
    "l = [\"eat\", \"tea\", \"tan\", \"ate\", \"nat\", \"bat\"]\n",
    "\n",
    "def groupAnagrams(l: List[str]) -> List[List[str]]:\n",
    "    d = defaultdict(list)\n",
    "    for s in l:\n",
    "        k = ''.join(sorted(s))\n",
    "        d[k].append(s)\n",
    "    return list(d.values())\n",
    "\n",
    "result = groupAnagrams(l)\n",
    "print(result)"
   ]
  },
  {
   "cell_type": "markdown",
   "id": "c5c558ac",
   "metadata": {},
   "source": [
    "5. Write a function to multiply two large numbers represented as strings."
   ]
  },
  {
   "cell_type": "code",
   "execution_count": 5,
   "id": "230d2064",
   "metadata": {},
   "outputs": [
    {
     "name": "stdout",
     "output_type": "stream",
     "text": [
      "56088\n"
     ]
    }
   ],
   "source": [
    "num1 = \"123\"\n",
    "num2 = \"456\"\n",
    "\n",
    "def multiply(num1: str, num2: str) -> str:\n",
    "    if num1 == \"0\" or num2 == \"0\":\n",
    "        return \"0\"\n",
    "    m, n = len(num1), len(num2)\n",
    "    arr = [0] * (m + n)\n",
    "    for i in range(m - 1, -1, -1):\n",
    "        a = int(num1[i])\n",
    "        for j in range(n - 1, -1, -1):\n",
    "            b = int(num2[j])\n",
    "            arr[i + j + 1] += a * b\n",
    "    for i in range(m + n - 1, 0, -1):\n",
    "        arr[i - 1] += arr[i] // 10\n",
    "        arr[i] %= 10\n",
    "    i = 0 if arr[0] else 1\n",
    "    return \"\".join(str(x) for x in arr[i:])\n",
    "\n",
    "result = multiply(num1, num2)\n",
    "print(result)"
   ]
  },
  {
   "cell_type": "markdown",
   "id": "9f9c554e",
   "metadata": {},
   "source": [
    "6. Given two strings, check if one is a rotation of the other using only one call to a string method."
   ]
  },
  {
   "cell_type": "code",
   "execution_count": 6,
   "id": "d5bcde71",
   "metadata": {},
   "outputs": [
    {
     "name": "stdout",
     "output_type": "stream",
     "text": [
      "True\n"
     ]
    }
   ],
   "source": [
    "str1 = \"ABCD\"\n",
    "str2 = \"DABC\"\n",
    "\n",
    "def is_rotation(str1: str, str2: str) -> bool:\n",
    "    return len(str1) == len(str2) and str2 in (str1 + str1)\n",
    "\n",
    "result = is_rotation(str1, str2)\n",
    "print(result)\n"
   ]
  },
  {
   "cell_type": "markdown",
   "id": "59dd3a59",
   "metadata": {},
   "source": [
    "7. Given a string containing just the characters (, ), {, }, [, and ], determine if the input string is valid."
   ]
  },
  {
   "cell_type": "code",
   "execution_count": 12,
   "id": "e5f14606",
   "metadata": {},
   "outputs": [
    {
     "name": "stdout",
     "output_type": "stream",
     "text": [
      "True\n"
     ]
    }
   ],
   "source": [
    "parentheses = \"()[]{}\"\n",
    "\n",
    "def isValid(parentheses: str) -> bool:\n",
    "    stack = []  \n",
    "    brackets = {')': '(', '}': '{', ']': '['}  # a hash-map to quickly compare opening and closing brackets\n",
    "\n",
    "    for char in parentheses:\n",
    "        if char in brackets.values():  \n",
    "            stack.append(char)\n",
    "        elif char in brackets: \n",
    "            if stack and stack[-1] == brackets[char]:\n",
    "                stack.pop()\n",
    "            else:  \n",
    "                return False\n",
    "        else:  \n",
    "            return False\n",
    "\n",
    "    return not stack \n",
    "\n",
    "result = isValid(parentheses)\n",
    "print(result)  "
   ]
  },
  {
   "cell_type": "markdown",
   "id": "3fb329b5",
   "metadata": {},
   "source": [
    "8. Implement the function atoi which converts a string to an integer."
   ]
  },
  {
   "cell_type": "code",
   "execution_count": 16,
   "id": "e9a8d40d",
   "metadata": {},
   "outputs": [
    {
     "name": "stdout",
     "output_type": "stream",
     "text": [
      "4193\n"
     ]
    }
   ],
   "source": [
    "input_str = \"4193 with words\"\n",
    "\n",
    "def my_atoi(s: str) -> int:\n",
    "    s = s.strip() \n",
    "    if not s:\n",
    "        return 0\n",
    "\n",
    "    sign = 1 \n",
    "    index = 0  \n",
    "\n",
    "    if s[index] == '-':\n",
    "        sign = -1\n",
    "        index += 1\n",
    "    elif s[index] == '+':\n",
    "        index += 1\n",
    "\n",
    "    result =\n",
    "\n",
    "    while index < len(s) and s[index].isdigit():\n",
    "        digit = int(s[index])  \n",
    "        result = result * 10 + digit  \n",
    "\n",
    "        if result >= 2**31:\n",
    "            return 2**31 - 1 if sign == 1 else -2**31\n",
    "        index += 1\n",
    "\n",
    "    return result * sign \n",
    "\n",
    "result = my_atoi(input_str)\n",
    "print(result)  "
   ]
  },
  {
   "cell_type": "markdown",
   "id": "7539a001",
   "metadata": {},
   "source": [
    "9. Write a function that generates the nth term of the \"count and say\" sequence."
   ]
  },
  {
   "cell_type": "code",
   "execution_count": 19,
   "id": "d3cf950e",
   "metadata": {},
   "outputs": [
    {
     "name": "stdout",
     "output_type": "stream",
     "text": [
      "1211\n"
     ]
    }
   ],
   "source": [
    "n = 4\n",
    "def countAndSay(n: int) -> str:\n",
    "    s = '1'\n",
    "    for _ in range(n - 1):\n",
    "        i = 0\n",
    "        t = []\n",
    "        while i < len(s):\n",
    "            j = i\n",
    "            while j < len(s) and s[j] == s[i]:\n",
    "                j += 1\n",
    "            t.append(str(j - i))\n",
    "            t.append(str(s[i]))\n",
    "            i = j\n",
    "        s = ''.join(t)\n",
    "    return s\n",
    "\n",
    "result = countAndSay(n)\n",
    "print(result) "
   ]
  },
  {
   "cell_type": "markdown",
   "id": "89db55af",
   "metadata": {},
   "source": [
    "10. Given two strings s and t, return the minimum window in s which will contain all the characters in t."
   ]
  },
  {
   "cell_type": "code",
   "execution_count": 24,
   "id": "67d2754d",
   "metadata": {},
   "outputs": [
    {
     "name": "stdout",
     "output_type": "stream",
     "text": [
      "BANC\n"
     ]
    }
   ],
   "source": [
    "s = \"ADOBECODEBANC\"\n",
    "t = \"ABC\"\n",
    "\n",
    "from collections import Counter\n",
    "from math import inf\n",
    "\n",
    "def minWindow(s: str, t: str) -> str:\n",
    "    need = Counter(t)\n",
    "    window = Counter()\n",
    "    cnt, j, k, mi = 0, 0, -1, inf\n",
    "    for i, c in enumerate(s):\n",
    "        window[c] += 1\n",
    "        if need[c] >= window[c]:\n",
    "            cnt += 1\n",
    "        while cnt == len(t):\n",
    "            if i - j + 1 < mi:\n",
    "                mi = i - j + 1\n",
    "                k = j\n",
    "            if need[s[j]] >= window[s[j]]:\n",
    "                cnt -= 1\n",
    "            window[s[j]] -= 1\n",
    "            j += 1\n",
    "    return '' if k < 0 else s[k : k + mi]\n",
    "\n",
    "result = minWindow(s,t)\n",
    "print(result) "
   ]
  },
  {
   "cell_type": "markdown",
   "id": "cd3bae84",
   "metadata": {},
   "source": [
    "11. Given a string, find the length of the longest substring without repeating characters."
   ]
  },
  {
   "cell_type": "code",
   "execution_count": 25,
   "id": "c49e158b",
   "metadata": {},
   "outputs": [
    {
     "name": "stdout",
     "output_type": "stream",
     "text": [
      "3\n"
     ]
    }
   ],
   "source": [
    "s = \"abcabcbb\"\n",
    "def lengthOfLongestSubstring(s: str) -> int:\n",
    "    ss = set()\n",
    "    ans = i = 0\n",
    "    for j, c in enumerate(s):\n",
    "        while c in ss:\n",
    "            ss.remove(s[i])\n",
    "            i += 1\n",
    "        ss.add(c)\n",
    "        ans = max(ans, j - i + 1)\n",
    "    return ans\n",
    "result = lengthOfLongestSubstring(s)\n",
    "print(result) "
   ]
  },
  {
   "cell_type": "markdown",
   "id": "85bad463",
   "metadata": {},
   "source": [
    "12. Given three strings s1, s2, and s3, determine if s3 is formed by the interleaving of s1 and s2."
   ]
  },
  {
   "cell_type": "code",
   "execution_count": 28,
   "id": "0f89cf4f",
   "metadata": {},
   "outputs": [
    {
     "name": "stdout",
     "output_type": "stream",
     "text": [
      "True\n"
     ]
    }
   ],
   "source": [
    "s1 = \"aabcc\"\n",
    "s2 = \"dbbca\"\n",
    "s3 = \"aadbbcbcac\"\n",
    "\n",
    "# from functools import lru_cache\n",
    "def isInterleave(s1: str, s2: str, s3: str) -> bool:\n",
    "#     @lur_cache(None)\n",
    "    def dfs(i: int, j: int) -> bool:\n",
    "        if i >= m and j >= n:\n",
    "            return True\n",
    "        k = i + j\n",
    "        if i < m and s1[i] == s3[k] and dfs(i + 1, j):\n",
    "            return True\n",
    "        if j < n and s2[j] == s3[k] and dfs(i, j + 1):\n",
    "            return True\n",
    "        return False\n",
    "\n",
    "    m, n = len(s1), len(s2)\n",
    "    if m + n != len(s3):\n",
    "        return False\n",
    "    return dfs(0, 0)\n",
    "result = isInterleave(s1,s2,s3)\n",
    "print(result) "
   ]
  },
  {
   "cell_type": "markdown",
   "id": "3f1edded",
   "metadata": {},
   "source": [
    "13. Write a function to convert a Roman numeral to an integer."
   ]
  },
  {
   "cell_type": "code",
   "execution_count": 29,
   "id": "b8ea64ea",
   "metadata": {},
   "outputs": [
    {
     "name": "stdout",
     "output_type": "stream",
     "text": [
      "1994\n"
     ]
    }
   ],
   "source": [
    "S=\"MCMXCIV\"\n",
    "\n",
    "roman = {'I':1,'V':5,'X':10,'L':50,'C':100,'D':500,'M':1000}\n",
    "\n",
    "def romanToInt(S: str) -> int:\n",
    "    ans = 0\n",
    "    for i in range(len(S)-1,-1,-1):\n",
    "        num = roman[S[i]]\n",
    "        if 4 * num < ans: ans -= num\n",
    "        else: ans += num\n",
    "    return ans\n",
    "\n",
    "result = romanToInt(S)\n",
    "print(result) "
   ]
  },
  {
   "cell_type": "markdown",
   "id": "601f7557",
   "metadata": {},
   "source": [
    "14. Find the longest common substring between two strings."
   ]
  },
  {
   "cell_type": "code",
   "execution_count": 33,
   "id": "dcf60ace",
   "metadata": {},
   "outputs": [
    {
     "name": "stdout",
     "output_type": "stream",
     "text": [
      "BABC\n"
     ]
    }
   ],
   "source": [
    "str1 = \"ABABC\"\n",
    "str2 = \"BABCA\"\n",
    "\n",
    "def longest_common_subsequence(str1, str2):\n",
    "    n, m = len(str1), len(str2)\n",
    "    # create dp matrix\n",
    "    dp = [[0 for j in range(m + 1)] for i in range(n + 1)]\n",
    "\n",
    "    for i in range(1, n + 1):\n",
    "        for j in range(1, m + 1):\n",
    "            # checks only in 3 directions in the table\n",
    "            # in short: to the current position dp could come from those 3 previous positions\n",
    "            #   ^  ^\n",
    "            #    \\ |\n",
    "            #   <- O\n",
    "            if str1[i - 1] == str2[j - 1]:\n",
    "                # from this position dp could come only if there is a match in the previous chars\n",
    "                dp[i][j] = dp[i - 1][j - 1] + 1\n",
    "            else:\n",
    "                # dp could come from these positions only if there is no much\n",
    "                dp[i][j] = max(dp[i - 1][j], dp[i][j - 1])\n",
    "\n",
    "    # find the subseqence/string\n",
    "    letters = dp[n][m]\n",
    "    # use an array for storing the chars because string manipulation operations are not time and space efficient\n",
    "    result = ['' for i in range(letters)]\n",
    "    i = n\n",
    "    j = m\n",
    "\n",
    "    while (i != 0) and (j != 0):\n",
    "        # use the inverse logic from upper code (filling the dp table)\n",
    "        if str1[i - 1] == str2[j - 1]:\n",
    "            letters -= 1\n",
    "            result[letters] = str1[i - 1]\n",
    "            j -= 1\n",
    "            i -= 1\n",
    "        elif dp[i - 1][j] < dp[i][j - 1]:\n",
    "            j -= 1\n",
    "        else:\n",
    "            i -= 1\n",
    "\n",
    "    return ''.join(result)\n",
    "\n",
    "result = longest_common_subsequence(str1, str2)\n",
    "print(result)  \n"
   ]
  },
  {
   "cell_type": "markdown",
   "id": "e5904bc6",
   "metadata": {},
   "source": [
    "15. Given a string s and a dictionary of words, check if s can be segmented into a space-separated sequence of one or more dictionary words."
   ]
  },
  {
   "cell_type": "code",
   "execution_count": 36,
   "id": "9a06e26b",
   "metadata": {},
   "outputs": [
    {
     "name": "stdout",
     "output_type": "stream",
     "text": [
      "True\n"
     ]
    }
   ],
   "source": [
    "s = \"leetcode\"\n",
    "wordDict = [\"leet\", \"code\"]\n",
    "\n",
    "def wordBreak(s: str, wordDict: List[str]) -> bool:\n",
    "    dp ={\"\":True}\n",
    "    def valid(curr):\n",
    "        if curr in dp:\n",
    "            return dp[curr]\n",
    "\n",
    "        for i in range(len(curr)-1,-1,-1):\n",
    "            if curr[i:] in wordDict:\n",
    "                dp[curr[i:]] = valid(curr[:i])\n",
    "                if dp[curr[i:]]:\n",
    "                    return True\n",
    "        dp[curr]=False\n",
    "        return False\n",
    "\n",
    "    return valid(s)\n",
    "\n",
    "result = wordBreak(s, wordDict)\n",
    "print(result)"
   ]
  },
  {
   "cell_type": "markdown",
   "id": "94fccc2f",
   "metadata": {},
   "source": [
    "16. Remove the minimum number of invalid parentheses to make the input string valid. Return all possible results."
   ]
  },
  {
   "cell_type": "code",
   "execution_count": 38,
   "id": "f975124d",
   "metadata": {},
   "outputs": [
    {
     "name": "stdout",
     "output_type": "stream",
     "text": [
      "['(())()', '()()()']\n"
     ]
    }
   ],
   "source": [
    "s=\"()())()\"\n",
    "\n",
    "def removeInvalidParentheses(s: str) -> List[str]:\n",
    "    def dfs(i, l, r, lcnt, rcnt, t):\n",
    "        if i == n:\n",
    "            if l == 0 and r == 0:\n",
    "                ans.add(t)\n",
    "            return\n",
    "        if n - i < l + r or lcnt < rcnt:\n",
    "            return\n",
    "        if s[i] == '(' and l:\n",
    "            dfs(i + 1, l - 1, r, lcnt, rcnt, t)\n",
    "        elif s[i] == ')' and r:\n",
    "            dfs(i + 1, l, r - 1, lcnt, rcnt, t)\n",
    "        dfs(i + 1, l, r, lcnt + (s[i] == '('), rcnt + (s[i] == ')'), t + s[i])\n",
    "\n",
    "    l = r = 0\n",
    "    for c in s:\n",
    "        if c == '(':\n",
    "            l += 1\n",
    "        elif c == ')':\n",
    "            if l:\n",
    "                l -= 1\n",
    "            else:\n",
    "                r += 1\n",
    "    ans = set()\n",
    "    n = len(s)\n",
    "    dfs(0, l, r, 0, 0, '')\n",
    "    return list(ans)\n",
    "\n",
    "result = removeInvalidParentheses(s)\n",
    "print(result)"
   ]
  }
 ],
 "metadata": {
  "kernelspec": {
   "display_name": "Python 3 (ipykernel)",
   "language": "python",
   "name": "python3"
  },
  "language_info": {
   "codemirror_mode": {
    "name": "ipython",
    "version": 3
   },
   "file_extension": ".py",
   "mimetype": "text/x-python",
   "name": "python",
   "nbconvert_exporter": "python",
   "pygments_lexer": "ipython3",
   "version": "3.9.12"
  }
 },
 "nbformat": 4,
 "nbformat_minor": 5
}
